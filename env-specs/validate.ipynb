{
 "cells": [
  {
   "cell_type": "code",
   "execution_count": null,
   "id": "3199029a-6309-4ac8-af85-2c82b1f453fb",
   "metadata": {},
   "outputs": [],
   "source": [
    "from pathlib import Path"
   ]
  },
  {
   "cell_type": "code",
   "execution_count": null,
   "id": "8b9c9fb4-3c34-4ab2-88c5-468bf5321172",
   "metadata": {},
   "outputs": [],
   "source": [
    "p = Path('.')"
   ]
  },
  {
   "cell_type": "code",
   "execution_count": null,
   "id": "d46f1f2d-9c5d-4c7f-8863-18922f9c9f2d",
   "metadata": {},
   "outputs": [],
   "source": [
    "ymls = [f for f in p.iterdir() if f.suffix == '.yml']"
   ]
  },
  {
   "cell_type": "code",
   "execution_count": null,
   "id": "1ac1b3ff-2aaa-4c71-b9af-a67d3aff5853",
   "metadata": {},
   "outputs": [],
   "source": [
    "ymls"
   ]
  },
  {
   "cell_type": "code",
   "execution_count": null,
   "id": "d4865357-1449-40f6-b8b2-dc9f78ece520",
   "metadata": {},
   "outputs": [],
   "source": [
    "import jsonschema"
   ]
  },
  {
   "cell_type": "code",
   "execution_count": null,
   "id": "cb9d6c85-7606-49cd-abb1-9769d696f679",
   "metadata": {},
   "outputs": [],
   "source": [
    "schema_str = \"\"\"\n",
    "{\n",
    "  \"$schema\": \"https://json-schema.org/draft/2020-12/schema\",\n",
    "  \"type\": \"object\",\n",
    "  \"properties\": {\n",
    "    \"name\": {\"type\": \"string\"},\n",
    "    \"prefix\": {\"type\": \"string\"},\n",
    "    \"channels\": {\n",
    "      \"type\": \"array\",\n",
    "      \"items\": {\"type\": \"string\"}\n",
    "    },\n",
    "    \"dependencies\": {\n",
    "      \"type\": \"array\",\n",
    "      \"items\": {\n",
    "        \"anyOf\": [\n",
    "          {\"type\": \"string\"},\n",
    "          {\"$ref\": \"#/definitions/pip\"}\n",
    "        ]\n",
    "      }\n",
    "    },\n",
    "    \"variables\": {\n",
    "      \"type\": \"object\",\n",
    "      \"additionalProperties\": {\"type\": \"string\"}\n",
    "    }\n",
    "  },\n",
    "  \"definitions\": {\n",
    "    \"pip\": {\n",
    "        \"type\": \"object\", \n",
    "        \"additionalProperties\": {\n",
    "            \"type\": \"array\",\n",
    "            \"required\": [\"pip\"],\n",
    "            \"properties\": {\n",
    "                \"pip\": {\"type\": \"array\"}\n",
    "            }\n",
    "        }\n",
    "    }\n",
    "  }\n",
    "}\n",
    "\n",
    "\"\"\"\n",
    "\n",
    "\n",
    "import json\n",
    "schema = json.loads(schema_str)"
   ]
  },
  {
   "cell_type": "code",
   "execution_count": null,
   "id": "6c696d8d-7218-49eb-b518-f7eff393df83",
   "metadata": {},
   "outputs": [],
   "source": [
    "schema"
   ]
  },
  {
   "cell_type": "code",
   "execution_count": null,
   "id": "75993b7d-2e67-4bec-8c1b-b143ef6e78fc",
   "metadata": {},
   "outputs": [],
   "source": [
    "import yaml"
   ]
  },
  {
   "cell_type": "code",
   "execution_count": null,
   "id": "1d73305a-c57e-4d11-98ec-509140aa2bc6",
   "metadata": {},
   "outputs": [],
   "source": [
    "text"
   ]
  },
  {
   "cell_type": "code",
   "execution_count": null,
   "id": "8f91a66d-6029-462c-b3f7-d8a8afee8d0e",
   "metadata": {},
   "outputs": [],
   "source": [
    "for yml in ymls:\n",
    "    text = yml.read_text()\n",
    "    env_spec = yaml.load(text, yaml.SafeLoader)\n",
    "    print(f'Validating {str(yml)}')\n",
    "    jsonschema.validate(env_spec, schema)"
   ]
  },
  {
   "cell_type": "code",
   "execution_count": null,
   "id": "07a567bf-69af-4379-a608-032246ed3dfb",
   "metadata": {},
   "outputs": [],
   "source": [
    "env_spec"
   ]
  },
  {
   "cell_type": "code",
   "execution_count": null,
   "id": "4bc39cd9-2450-4653-b838-92757f857f62",
   "metadata": {},
   "outputs": [],
   "source": []
  }
 ],
 "metadata": {
  "kernelspec": {
   "display_name": "Python [conda env:jsonschema]",
   "language": "python",
   "name": "conda-env-jsonschema-py"
  },
  "language_info": {
   "codemirror_mode": {
    "name": "ipython",
    "version": 3
   },
   "file_extension": ".py",
   "mimetype": "text/x-python",
   "name": "python",
   "nbconvert_exporter": "python",
   "pygments_lexer": "ipython3",
   "version": "3.11.2"
  }
 },
 "nbformat": 4,
 "nbformat_minor": 5
}
